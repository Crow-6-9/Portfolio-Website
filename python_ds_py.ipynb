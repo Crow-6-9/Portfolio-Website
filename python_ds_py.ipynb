{
  "nbformat": 4,
  "nbformat_minor": 0,
  "metadata": {
    "colab": {
      "provenance": []
    },
    "kernelspec": {
      "name": "python3",
      "display_name": "Python 3"
    },
    "language_info": {
      "name": "python"
    }
  },
  "cells": [
    {
      "cell_type": "code",
      "execution_count": null,
      "metadata": {
        "colab": {
          "base_uri": "https://localhost:8080/"
        },
        "id": "luapSmuTSOdK",
        "outputId": "852ced44-c2d5-4200-e664-6898860b4a94"
      },
      "outputs": [
        {
          "output_type": "stream",
          "name": "stdout",
          "text": [
            "11--->13--->24--->56--->none\n",
            "55--->11--->13--->24--->56--->none\n",
            "56--->24--->13--->11--->55--->none\n"
          ]
        }
      ],
      "source": [
        "class node:\n",
        "  def __init__(self,data):\n",
        "    self.data=data\n",
        "    self.next=None\n",
        "\n",
        "class linkedlist:\n",
        "  def __init__(self):\n",
        "    self.head=None\n",
        "\n",
        "  def insert_at_end(self,data):\n",
        "    newnode=node(data)\n",
        "    if self.head is None:\n",
        "      self.head=newnode\n",
        "      return\n",
        "    lastnode=self.head\n",
        "    while lastnode.next:\n",
        "      lastnode=lastnode.next\n",
        "    lastnode.next=newnode\n",
        "\n",
        "    #insert at begining\n",
        "\n",
        "  def insert_at_begg(self,data):\n",
        "    newnode=node(data)\n",
        "    newnode.next=self.head\n",
        "    self.head=newnode\n",
        "\n",
        "\n",
        "  def delete(self,key):\n",
        "    current=self.head\n",
        "    prev=None\n",
        "    if current and current.data==key:\n",
        "      self.head=current.next\n",
        "      current=None\n",
        "      return\n",
        "\n",
        "    while current and current.data!=key:\n",
        "      prev=current\n",
        "      current=current.next\n",
        "\n",
        "    if current is None:\n",
        "      print(\"node not found \")\n",
        "\n",
        "    prev.next=current.next\n",
        "    current=None\n",
        "\n",
        "  def  reverse(self):\n",
        "    prev=None\n",
        "    current=self.head\n",
        "    while current:\n",
        "      nextnode=current.next\n",
        "      current.next=prev\n",
        "      prev=current\n",
        "      current=nextnode\n",
        "    self.head=prev\n",
        "\n",
        "\n",
        "  def display(self):\n",
        "    current=self.head\n",
        "    if not current:\n",
        "      print(\"LL is empty\")\n",
        "      return\n",
        "    while current:\n",
        "      print(current.data, end=\"--->\")\n",
        "      current=current.next\n",
        "    print(\"none\")\n",
        "\n",
        "l=linkedlist()\n",
        "l.insert_at_end(11)\n",
        "l.insert_at_end(13)\n",
        "l.insert_at_end(24)\n",
        "l.insert_at_end(56)\n",
        "l.display()\n",
        "\n",
        "l.insert_at_begg(55)\n",
        "l.display()\n",
        "\n",
        "l.reverse()\n",
        "\n",
        "l.display()\n"
      ]
    },
    {
      "cell_type": "code",
      "source": [
        "class node:\n",
        "  def __init__(self,data):\n",
        "    self.data=data\n",
        "    self.prev=None\n",
        "    self.next=None\n",
        "\n",
        "class Doublyll:\n",
        "  def __init__(self) :\n",
        "    self.head=None\n",
        "\n",
        "  def insert_at_end(self,data):\n",
        "    newnode=node(data)\n",
        "    if self.head is None:\n",
        "      self.head=newnode\n",
        "      return\n",
        "\n",
        "    lastnode=self.head\n",
        "    while lastnode.next:\n",
        "      lastnode=lastnode.next\n",
        "    lastnode.next=newnode\n",
        "    newnode.prev=lastnode\n",
        "\n",
        "  def display(self):\n",
        "    if self.head is None:\n",
        "      print(\"DLL is emmpty\")\n",
        "      return\n",
        "    current=self.head\n",
        "    while current:\n",
        "      print(current.data,end=\"<-->\" if current.next else \"\")\n",
        "      current=current.next\n",
        "\n",
        "dll=Doublyll()\n",
        "dll.insert_at_end(11)\n",
        "dll.insert_at_end(22)\n",
        "dll.insert_at_end(45)\n",
        "dll.insert_at_end(17)\n",
        "dll.insert_at_end(13)\n",
        "dll.display()"
      ],
      "metadata": {
        "colab": {
          "base_uri": "https://localhost:8080/"
        },
        "id": "50PKSZd3SWwU",
        "outputId": "d9728c62-b0a6-4c34-b2a5-672802b8e81a"
      },
      "execution_count": null,
      "outputs": [
        {
          "output_type": "stream",
          "name": "stdout",
          "text": [
            "11<-->22<-->45<-->17<-->13"
          ]
        }
      ]
    },
    {
      "cell_type": "code",
      "source": [
        "#paranthesis ques\n",
        "\n",
        "def isbalance(s):\n",
        "\n",
        "  stack=[]\n",
        "  brackets={\n",
        "      \")\":\"(\", \"}\":\"{\",\"]\":\"[\"\n",
        "  }\n",
        "\n",
        "  for char in s:\n",
        "    if char in  brackets.values():\n",
        "      stack.append(char)\n",
        "    elif char in brackets.keys():\n",
        "      if stack==[] or stack.pop()!=brackets[char]:\n",
        "        return False\n",
        "\n",
        "  return stack==[]\n",
        "s=\"{[()]}\"\n",
        "print(isbalance(s))"
      ],
      "metadata": {
        "colab": {
          "base_uri": "https://localhost:8080/"
        },
        "id": "k5nBxorFSfiO",
        "outputId": "fad4b7ec-fb6d-4fca-a4d7-1e272e69af10"
      },
      "execution_count": null,
      "outputs": [
        {
          "output_type": "stream",
          "name": "stdout",
          "text": [
            "True\n"
          ]
        }
      ]
    },
    {
      "cell_type": "code",
      "source": [
        "# q=[2,3,5,4,6]\n",
        "\n",
        "\n",
        "class queue:\n",
        "  def __init__(self):\n",
        "    self.queue=[]\n",
        "\n",
        "  def enqueue(self,item):\n",
        "    self.queue.append(item)\n",
        "\n",
        "  def dequeue(self):\n",
        "    if not self.is_empty():\n",
        "      return self.queue.pop(0)\n",
        "    else:\n",
        "      print(\"Queue is empty\")\n",
        "\n",
        "  def peek(self):\n",
        "    if not self.is_empty():\n",
        "      return self.queue[0]\n",
        "    else:\n",
        "      print(\"queeue is empty\")\n",
        "\n",
        "  def is_empty(self):\n",
        "    return len(self.queue)==0\n",
        "\n",
        "  def display(self):\n",
        "    return self.queue\n",
        "\n",
        "q=queue()\n",
        "q.enqueue(3)\n",
        "q.enqueue(8)\n",
        "q.enqueue(6)\n",
        "q.enqueue(4)\n",
        "q.enqueue(11)\n",
        "q.enqueue(9)\n",
        "\n",
        "print(q.peek())\n",
        "q.display()\n"
      ],
      "metadata": {
        "colab": {
          "base_uri": "https://localhost:8080/"
        },
        "id": "ylqdPEdUSi4Y",
        "outputId": "413ae3c3-93d5-4fad-f219-797281f6e15f"
      },
      "execution_count": null,
      "outputs": [
        {
          "output_type": "stream",
          "name": "stdout",
          "text": [
            "3\n"
          ]
        },
        {
          "output_type": "execute_result",
          "data": {
            "text/plain": [
              "[3, 8, 6, 4, 11, 9]"
            ]
          },
          "metadata": {},
          "execution_count": 5
        }
      ]
    },
    {
      "cell_type": "markdown",
      "source": [
        "**sorting algos**\n"
      ],
      "metadata": {
        "id": "aydGIbHxTWLY"
      }
    },
    {
      "cell_type": "code",
      "source": [
        "'''\n",
        "sorting    bestcase    averagecase     worstcase\n",
        "bubble      O(m)          O(m**2)        O(n**2)\n",
        "selection   O(n**2)       O(n**2)         O(n**2)\n",
        "insertion   O(n)          O(n**2)       O(n**2)\n",
        "merge       O(nlogn)      O(nlogn)       O(nlogn)\n",
        "quick       O(nlogn)      O(nlogn)       O(n**2)\n",
        "heap        O(nlogn)      O(nlogn)       O(nlogn)\n",
        "'''"
      ],
      "metadata": {
        "colab": {
          "base_uri": "https://localhost:8080/",
          "height": 105
        },
        "id": "D40ehvnJSkyY",
        "outputId": "4b9ed693-7856-4c8e-d81e-09f53dc32bbd"
      },
      "execution_count": null,
      "outputs": [
        {
          "output_type": "execute_result",
          "data": {
            "text/plain": [
              "'\\nsorting    bestcase    averagecase     worstcase \\nbubble      O(m)          O(m**2)        O(n**2)\\nselection   O(n**2)       O(n**2)         O(n**2)\\ninsertion   O(n)          O(n**2)       O(n**2)\\nmerge       O(nlogn)      O(nlogn)       O(nlogn)\\nquick       O(nlogn)      O(nlogn)       O(n**2)\\nheap        O(nlogn)      O(nlogn)       O(nlogn)\\n'"
            ],
            "application/vnd.google.colaboratory.intrinsic+json": {
              "type": "string"
            }
          },
          "metadata": {},
          "execution_count": 10
        }
      ]
    },
    {
      "cell_type": "markdown",
      "source": [
        "**Sorting techniques**\n"
      ],
      "metadata": {
        "id": "DUh3qc-8yLsa"
      }
    },
    {
      "cell_type": "markdown",
      "source": [
        "**`Bubble sort`**"
      ],
      "metadata": {
        "id": "lA4r_xe2ySg-"
      }
    },
    {
      "cell_type": "code",
      "source": [
        "def bubble_sort(arr):\n",
        "    n = len(arr)\n",
        "    for i in range(n):\n",
        "        swapped = False\n",
        "        for j in range(0, n - i - 1):\n",
        "            if arr[j] > arr[j + 1]:\n",
        "                arr[j], arr[j + 1] = arr[j + 1], arr[j]\n",
        "                swapped = True\n",
        "        if swapped==False :\n",
        "            break\n",
        "    return arr\n",
        "\n",
        "bb = [33, 24, 78, 17, 3, 26]\n",
        "print(bubble_sort(bb))\n"
      ],
      "metadata": {
        "colab": {
          "base_uri": "https://localhost:8080/"
        },
        "id": "6GnQTIQFzcU1",
        "outputId": "a803ed2f-ea12-4535-d500-ec1297941c1f"
      },
      "execution_count": null,
      "outputs": [
        {
          "output_type": "stream",
          "name": "stdout",
          "text": [
            "[3, 17, 24, 26, 33, 78]\n"
          ]
        }
      ]
    },
    {
      "cell_type": "markdown",
      "source": [
        "***selection sort***\n"
      ],
      "metadata": {
        "id": "xMRVkQJE4zU3"
      }
    },
    {
      "cell_type": "code",
      "source": [
        "def selection_sort(arr):\n",
        "  n=len(arr)\n",
        "  for i in range (n):\n",
        "    m_index=i\n",
        "    for j in range(i+1,n):\n",
        "      if arr[j]<arr[m_index]:\n",
        "        m_index=j\n",
        "    arr[i],arr[m_index]=arr[m_index],arr[i]\n",
        "\n",
        "ss=[77,23,7,16,34]\n",
        "selection_sort(ss)\n",
        "print(ss)"
      ],
      "metadata": {
        "colab": {
          "base_uri": "https://localhost:8080/"
        },
        "id": "F_swAIgN5ONr",
        "outputId": "06165857-42df-45a3-d659-7f9788529d7f"
      },
      "execution_count": null,
      "outputs": [
        {
          "output_type": "stream",
          "name": "stdout",
          "text": [
            "[7, 16, 23, 34, 77]\n"
          ]
        }
      ]
    },
    {
      "cell_type": "markdown",
      "source": [
        "**`Insertion sort`**"
      ],
      "metadata": {
        "id": "qRedIoOcDEOo"
      }
    },
    {
      "cell_type": "code",
      "source": [
        "def insertionsort(arr):\n",
        "  len(arr)\n",
        "  for i in range (1,len(arr)):\n",
        "    key=arr[i]\n",
        "\n",
        "    j=i-1\n",
        "    while j>=0 and key<arr[j]:\n",
        "      arr[j+1]=arr[j]\n",
        "      j-=1\n",
        "    arr[j+1]=key\n",
        "ins=[7,3,12,9,34,22,55,37]\n",
        "insertionsort(ins)\n",
        "print(ins)\n"
      ],
      "metadata": {
        "colab": {
          "base_uri": "https://localhost:8080/"
        },
        "id": "oIIZxBAp9b99",
        "outputId": "68ff0537-4d41-40dc-c2e0-81c3cdc3dc55"
      },
      "execution_count": null,
      "outputs": [
        {
          "output_type": "stream",
          "name": "stdout",
          "text": [
            "[3, 7, 9, 12, 22, 34, 37, 55]\n"
          ]
        }
      ]
    },
    {
      "cell_type": "code",
      "source": [
        "'''Subarray with given sum\n",
        "2\n",
        "5 12\n",
        "1 2 3 7 5\n",
        "10 15\n",
        "1 2 3 4 5 6 7 8 9 10\n",
        "Output:\n",
        "2 4\n",
        "1 5\n",
        "Explanation :\n",
        "Testcase1: sum of elements from 2nd position to 4th position is 12\n",
        "Testcase2: sum of elements from 1st position to 5th position is 15'''\n",
        "def subarr(arr, n, s):\n",
        "    for i in range(n):\n",
        "        current_sum = 0\n",
        "        for j in range(i, n):\n",
        "            current_sum += arr[j]\n",
        "            if current_sum == s:\n",
        "                print(i + 1, j + 1)\n",
        "                return\n",
        "            elif current_sum > s:\n",
        "                break\n",
        "    print(-1)\n",
        "\n",
        "arr = [1, 2, 3, 7, 5]\n",
        "subarr(arr, len(arr), 12)\n"
      ],
      "metadata": {
        "colab": {
          "base_uri": "https://localhost:8080/"
        },
        "id": "W_tAnunhQ81H",
        "outputId": "25dfc5ae-640d-4542-df71-3f0ca54f9835"
      },
      "execution_count": null,
      "outputs": [
        {
          "output_type": "stream",
          "name": "stdout",
          "text": [
            "2 4\n"
          ]
        }
      ]
    },
    {
      "cell_type": "code",
      "source": [
        "'''.Maximum Index\n",
        "Given an array A[] of N positive integers. The task is to find t\n",
        "maximum of j - is subjected to the constraint of A[i] <= A[j].\n",
        "'''\n",
        "arr=[1,9,34, 8, 10 ,3, 2, 80, 30, 33, 1]\n",
        "def max_index(arr,n):\n",
        "  max_diff=0\n",
        "  for i in range (n):\n",
        "    for j in range(1,n):\n",
        "      if arr[i]<=arr[j]:\n",
        "          max_diff=max(max_diff,j-i)\n",
        "      return  max_diff\n",
        "max_index(arr,len(arr))"
      ],
      "metadata": {
        "id": "rePVFc1FQ8yd",
        "colab": {
          "base_uri": "https://localhost:8080/"
        },
        "outputId": "ddf8236b-cfa7-45ce-ecc8-683ffa9bc8c1"
      },
      "execution_count": null,
      "outputs": [
        {
          "output_type": "execute_result",
          "data": {
            "text/plain": [
              "1"
            ]
          },
          "metadata": {},
          "execution_count": 8
        }
      ]
    },
    {
      "cell_type": "code",
      "source": [
        "\n",
        "arr=[1,2,3,2,1,4]\n",
        "\n",
        "def missing_unique(arr,n):\n",
        "  u=set()\n",
        "  for i in range (len(arr)):\n",
        "    if arr.count(i)==1:\n",
        "      u.add(i)\n",
        "  return u\n",
        "missing_unique(arr,2)"
      ],
      "metadata": {
        "id": "MC53sgczQ8wm",
        "colab": {
          "base_uri": "https://localhost:8080/"
        },
        "outputId": "69500f26-5e14-4a0f-aba3-797c9a700444"
      },
      "execution_count": null,
      "outputs": [
        {
          "output_type": "execute_result",
          "data": {
            "text/plain": [
              "{3, 4}"
            ]
          },
          "metadata": {},
          "execution_count": 1
        }
      ]
    },
    {
      "cell_type": "code",
      "source": [
        "'''Find the maximum product subarray in a given integer array.'''\n",
        "arr = [-2, 6, -3, -10, 0, 2]\n",
        "def max_product(arr,n):\n",
        "  first=arr[0]\n",
        "  for i in range (n):\n",
        "    mul=1\n",
        "    for j in range (i,n):\n",
        "      mul*=arr[j]\n",
        "      first= max(mul,first)\n",
        "  return first\n",
        "max_product(arr,len(arr))"
      ],
      "metadata": {
        "id": "fVs9u3H4Q8t-",
        "colab": {
          "base_uri": "https://localhost:8080/"
        },
        "outputId": "6bacd721-02e2-4d00-b64f-93485911112f"
      },
      "execution_count": null,
      "outputs": [
        {
          "output_type": "execute_result",
          "data": {
            "text/plain": [
              "180"
            ]
          },
          "metadata": {},
          "execution_count": 12
        }
      ]
    },
    {
      "cell_type": "code",
      "source": [
        "'''Rotate an array to the right by k steps.'''\n",
        "def right(arr,k):\n",
        "  for _ in range(k):\n",
        "    arr.insert(1,arr.pop())\n",
        "  return arr\n",
        "right(arr,len(arr))\n"
      ],
      "metadata": {
        "colab": {
          "base_uri": "https://localhost:8080/"
        },
        "id": "My5kAMkp7luV",
        "outputId": "9b86b8f1-38f8-4875-d964-68150a8ae15f"
      },
      "execution_count": null,
      "outputs": [
        {
          "output_type": "execute_result",
          "data": {
            "text/plain": [
              "[-2, -3, -10, 0, 2, 6]"
            ]
          },
          "metadata": {},
          "execution_count": 15
        }
      ]
    },
    {
      "cell_type": "code",
      "source": [
        "'''Find the frequency of each character of string without using inbuilt\n",
        "methods'''\n",
        "\n",
        "def freq(s):\n",
        "  sd=dict()\n",
        "  for char in s:\n",
        "    if char not in sd:\n",
        "      sd[char]=1\n",
        "    else:\n",
        "      sd[char]+=1\n",
        "  return sd\n",
        "s='Gaurav Patel '\n",
        "\n",
        "freq(s)\n"
      ],
      "metadata": {
        "id": "EQ65osCqQ8id",
        "colab": {
          "base_uri": "https://localhost:8080/"
        },
        "outputId": "695c1ee1-ba04-432c-acc0-ba7b81ef0664"
      },
      "execution_count": null,
      "outputs": [
        {
          "output_type": "execute_result",
          "data": {
            "text/plain": [
              "{'G': 1,\n",
              " 'a': 3,\n",
              " 'u': 1,\n",
              " 'r': 1,\n",
              " 'v': 1,\n",
              " ' ': 2,\n",
              " 'P': 1,\n",
              " 't': 1,\n",
              " 'e': 1,\n",
              " 'l': 1}"
            ]
          },
          "metadata": {},
          "execution_count": 17
        }
      ]
    },
    {
      "cell_type": "code",
      "source": [
        "'''Write a Python program to reverse the order of the items in the array.\n",
        "Sample Output\n",
        "Original array: array('i', [1, 3, 5, 3, 7, 1, 9, 3])\n",
        "Reverse the order of the items:\n",
        "array('i', [3, 9, 1, 7, 3, 5, 3, 1])'''\n",
        "\n",
        "arr=[1, 3, 5, 3, 7, 1, 9, 3]\n",
        "def rev_nochange(arr,n):\n",
        "  for i in range(n//2):\n",
        "    arr[i],arr[n-i-1]=arr[n-i-1],arr[i]\n",
        "  return arr\n",
        "rev_nochange(arr,len(arr))\n"
      ],
      "metadata": {
        "colab": {
          "base_uri": "https://localhost:8080/"
        },
        "id": "3TsQTh05Ay-K",
        "outputId": "ef153807-e5a2-40b8-e200-62d2fad3df94"
      },
      "execution_count": null,
      "outputs": [
        {
          "output_type": "execute_result",
          "data": {
            "text/plain": [
              "[3, 9, 1, 7, 3, 5, 3, 1]"
            ]
          },
          "metadata": {},
          "execution_count": 18
        }
      ]
    },
    {
      "cell_type": "code",
      "source": [
        "'''7. Write a Python program to get the number of occurrences of a specified\n",
        "element in an array.\n",
        "Sample Output:\n",
        "Original array: array('i', [1, 3, 5, 3, 7, 9, 3])\n",
        "Number of occurrences of the number 3 in the said array: 3'''\n",
        "\n",
        "def count_occ(arr,ele):\n",
        "  count=0\n",
        "  for i in arr:\n",
        "    if i==ele:\n",
        "      count+=1\n",
        "  return count\n",
        "count_occ(arr,3)"
      ],
      "metadata": {
        "colab": {
          "base_uri": "https://localhost:8080/"
        },
        "id": "UPsZ-8KCBvQ6",
        "outputId": "e7977a17-ce89-4e86-9709-c46363591cee"
      },
      "execution_count": null,
      "outputs": [
        {
          "output_type": "execute_result",
          "data": {
            "text/plain": [
              "3"
            ]
          },
          "metadata": {},
          "execution_count": 22
        }
      ]
    },
    {
      "cell_type": "code",
      "source": [
        "def swap_fs_ls(num):\n",
        "  num=str(num)\n",
        "  new_num=num[-1]+num[1:-1]+num[0]\n",
        "  return int(new_num)\n",
        "num=int(input(\"enter a nnumber\"))\n",
        "swap_fs_ls(num)"
      ],
      "metadata": {
        "colab": {
          "base_uri": "https://localhost:8080/"
        },
        "id": "04Ymi5xqCX4w",
        "outputId": "b2180e4b-d068-4ea3-88a2-dd8f19ee79f5"
      },
      "execution_count": null,
      "outputs": [
        {
          "name": "stdout",
          "output_type": "stream",
          "text": [
            "enter a nnumber12345\n"
          ]
        },
        {
          "output_type": "execute_result",
          "data": {
            "text/plain": [
              "52341"
            ]
          },
          "metadata": {},
          "execution_count": 24
        }
      ]
    },
    {
      "cell_type": "code",
      "source": [
        "'''Write a program to add all the numbers from 1 to a given number\n",
        "\n",
        "Sample output:\n",
        "Add 1 to 4: 10\n",
        "Add 1 to 100: 5050'''\n",
        "\n",
        "\n",
        "def upto(n):\n",
        "  nums=[i  for i in range(1,n+1)]\n",
        "  return sum(nums)\n",
        "upto(5)\n"
      ],
      "metadata": {
        "colab": {
          "base_uri": "https://localhost:8080/"
        },
        "id": "HdKS_USHEID6",
        "outputId": "0ac74387-87de-42a4-846e-262bedf10de0"
      },
      "execution_count": null,
      "outputs": [
        {
          "output_type": "execute_result",
          "data": {
            "text/plain": [
              "15"
            ]
          },
          "metadata": {},
          "execution_count": 26
        }
      ]
    },
    {
      "cell_type": "code",
      "source": [
        "'''Write a program to read an integer n and prints the factorial of n, assume\n",
        "that n = 10(n can be any number)'''\n",
        "\n",
        "def factorial(n):\n",
        "  fact=1\n",
        "  for i in range(1,n+1):\n",
        "    fact*=i\n",
        "  return fact\n",
        "factorial(10)"
      ],
      "metadata": {
        "colab": {
          "base_uri": "https://localhost:8080/"
        },
        "id": "noMDPTykEqXg",
        "outputId": "dced1c8c-62a5-4bdc-f1a3-34626363c480"
      },
      "execution_count": null,
      "outputs": [
        {
          "output_type": "execute_result",
          "data": {
            "text/plain": [
              "3628800"
            ]
          },
          "metadata": {},
          "execution_count": 6
        }
      ]
    },
    {
      "cell_type": "code",
      "source": [
        "'''Write a program to replace all the lower-case letters of a given string\n",
        "with the corresponding capital letters\n",
        "\n",
        "Sample Output:\n",
        "Input String: Vineeta\n",
        "Output String: VINEETA'''\n",
        "s='Vineeta'\n",
        "def capitt(s):\n",
        "     return s.upper()\n",
        "capitt(s)"
      ],
      "metadata": {
        "colab": {
          "base_uri": "https://localhost:8080/",
          "height": 36
        },
        "id": "BC02cJN1h5tC",
        "outputId": "fd95ef19-6369-41f7-ecbb-953c0916c3ef"
      },
      "execution_count": null,
      "outputs": [
        {
          "output_type": "execute_result",
          "data": {
            "text/plain": [
              "'VINEETA'"
            ],
            "application/vnd.google.colaboratory.intrinsic+json": {
              "type": "string"
            }
          },
          "metadata": {},
          "execution_count": 13
        }
      ]
    },
    {
      "cell_type": "code",
      "source": [
        "'''Write a program to print Fibonacci series without using recursion and\n",
        "using recursion.'''\n",
        "\n",
        "def fibo(f):\n",
        "  fib=[]\n",
        "  a,b=0,1\n",
        "  for _ in range(f):\n",
        "    a,b=b,a+b\n",
        "    fib.append(a)\n",
        "  return fib\n",
        "fibo(10)"
      ],
      "metadata": {
        "colab": {
          "base_uri": "https://localhost:8080/"
        },
        "id": "gQNyEFM7iTMA",
        "outputId": "0f2829f1-cda4-49d4-a11f-7f5ef9ddcc24"
      },
      "execution_count": null,
      "outputs": [
        {
          "output_type": "execute_result",
          "data": {
            "text/plain": [
              "[1, 1, 2, 3, 5, 8, 13, 21, 34, 55]"
            ]
          },
          "metadata": {},
          "execution_count": 15
        }
      ]
    },
    {
      "cell_type": "code",
      "source": [
        "def fib_rec(n):\n",
        "  if n<=1:\n",
        "    return n\n",
        "\n",
        "  else:\n",
        "    return fib_rec(n-1)+fib_rec(n-2)\n",
        "fib_rec(10)"
      ],
      "metadata": {
        "colab": {
          "base_uri": "https://localhost:8080/"
        },
        "id": "7CpmdH1F2-r8",
        "outputId": "17577ede-077e-4810-a507-04f1c910b32f"
      },
      "execution_count": null,
      "outputs": [
        {
          "output_type": "execute_result",
          "data": {
            "text/plain": [
              "55"
            ]
          },
          "metadata": {},
          "execution_count": 16
        }
      ]
    },
    {
      "cell_type": "code",
      "source": [
        "'''Longest valid Parentheses\n",
        "Given a string S consisting of opening and closing parenthesis '(' and ')'.\n",
        "Find the length of the longest valid parentheses substring.\n",
        "Input:\n",
        "First line contains the number of test cases T. Each test case have one\n",
        "line string S of character '(' and ')' of length N.'''\n",
        "\n"
      ],
      "metadata": {
        "id": "gXLSpGSRTycu"
      },
      "execution_count": null,
      "outputs": []
    },
    {
      "cell_type": "code",
      "source": [
        "def longest_valid_parantheses(s):\n",
        "  brackets=[-1]\n",
        "  max_len=0\n",
        "\n",
        "  for i in range(len(s)):\n",
        "    if s[i]=='(':\n",
        "      brackets.append(i)\n",
        "    else:\n",
        "      brackets.pop()\n",
        "\n",
        "      if brackets:\n",
        "        max_len=max(max_len, i-brackets[-1])\n",
        "      else:\n",
        "        brackets.append(i)\n",
        "        break\n",
        "  return max_len\n",
        "\n",
        "para=int(input())\n",
        "for _ in range(para):\n",
        "  s=input()\n",
        "  print(longest_valid_parantheses(s))\n",
        "\n"
      ],
      "metadata": {
        "colab": {
          "base_uri": "https://localhost:8080/"
        },
        "id": "FfMe0pwQ1dt-",
        "outputId": "e84a4b0e-d549-4b03-dc86-815a1141110a"
      },
      "execution_count": null,
      "outputs": [
        {
          "output_type": "stream",
          "name": "stdout",
          "text": [
            "2\n",
            "()()()))\n",
            "6\n",
            "1\n",
            "0\n"
          ]
        }
      ]
    },
    {
      "cell_type": "code",
      "source": [
        "def find_dup(arr):\n",
        "  dup={}\n",
        "  for i in set(arr):\n",
        "    dup[i]=arr.count(i)\n",
        "    print(dup)\n",
        "  for key,values in dup.items():\n",
        "    if values>1:\n",
        "      return key\n",
        "arr=[1,3,2,2,4]\n",
        "find_dup(arr)\n"
      ],
      "metadata": {
        "colab": {
          "base_uri": "https://localhost:8080/"
        },
        "id": "HMet_iwf3PJA",
        "outputId": "0af80c09-7def-4de8-b55f-5ceb0b56082f"
      },
      "execution_count": null,
      "outputs": [
        {
          "output_type": "stream",
          "name": "stdout",
          "text": [
            "{1: 1}\n",
            "{1: 1, 2: 2}\n",
            "{1: 1, 2: 2, 3: 1}\n",
            "{1: 1, 2: 2, 3: 1, 4: 1}\n"
          ]
        },
        {
          "output_type": "execute_result",
          "data": {
            "text/plain": [
              "2"
            ]
          },
          "metadata": {},
          "execution_count": 10
        }
      ]
    },
    {
      "cell_type": "code",
      "source": [
        "def dupp(arr):\n",
        "  for i in range(len(arr)-1) :\n",
        "    if arr[i]==arr[i+1]:\n",
        "      return arr[i]\n",
        "arr=[3,5,4,3,6]\n",
        "dupp(arr)"
      ],
      "metadata": {
        "id": "EKKrDE4cByvO"
      },
      "execution_count": null,
      "outputs": []
    },
    {
      "cell_type": "code",
      "source": [
        "'''Given an unsorted array of integers, find the length of the longest\n",
        "consecutive elements sequence.\n",
        "Input: nums = [100, 4, 200, 1, 3, 2]\n",
        "Output: 4 (The longest consecutive sequence is [1, 2, 3, 4])\n",
        "'''\n",
        "arr = [100, 4, 200, 1, 3, 2]\n",
        "\n",
        "def longest_consec_subseq(arr):\n",
        "    if not nums:\n",
        "        return []\n",
        "\n",
        "    nums.sort()\n",
        "    longest_seq = []\n",
        "    current_seq = [nums[0]]\n",
        "\n",
        "    for i in range(1, len(nums)):\n",
        "        if nums[i] == nums[i - 1]:\n",
        "            continue\n",
        "        if nums[i] == nums[i - 1] + 1:\n",
        "            current_seq.append(nums[i])\n",
        "        else:\n",
        "            if len(current_seq) > len(longest_seq):\n",
        "                longest_seq = current_seq\n",
        "            current_seq = [nums[i]]\n",
        "\n",
        "    if len(current_seq) > len(longest_seq):\n",
        "        longest_seq = current_seq\n",
        "\n",
        "    return longest_seq\n",
        "\n",
        "nums = [100, 4, 200, 1, 3, 2]\n",
        "print(longest_consec_subseq(nums))\n",
        "\n",
        "\n"
      ],
      "metadata": {
        "colab": {
          "base_uri": "https://localhost:8080/"
        },
        "id": "VoMkiV-ZDP5M",
        "outputId": "61205a78-18f2-444a-ea42-79ad689241b7"
      },
      "execution_count": null,
      "outputs": [
        {
          "output_type": "stream",
          "name": "stdout",
          "text": [
            "[1, 2, 3, 4]\n"
          ]
        }
      ]
    },
    {
      "cell_type": "code",
      "source": [
        "def reverse_line(line):\n",
        "    #break it in reverse list\n",
        "    r_list=line.split()[::-1]\n",
        "    print(\"r_list:\",r_list)\n",
        "    r_line=\"\"\n",
        "    for word in r_list:\n",
        "        r_line=r_line+\" \"+word\n",
        "    return r_line\n",
        "\n",
        "r_line=reverse_line(input(\"Enter a line\"))\n",
        "print(\"Reverse line is:\",r_line)"
      ],
      "metadata": {
        "colab": {
          "base_uri": "https://localhost:8080/"
        },
        "id": "L2SNDDRIOvFA",
        "outputId": "e0fa78da-9d5e-4645-9ab6-144b08dae1ce"
      },
      "execution_count": null,
      "outputs": [
        {
          "output_type": "stream",
          "name": "stdout",
          "text": [
            "Enter a linethe sky is blue \n",
            "r_list: ['blue', 'is', 'sky', 'the']\n",
            "Reverse line is:  blue is sky the\n"
          ]
        }
      ]
    },
    {
      "cell_type": "code",
      "source": [
        "def rev_line(ln):\n",
        "  rlist=ln.split()[::-1]\n",
        "  rline=\"\"\n",
        "  for word in rlist:\n",
        "    rline=rline+\" \"+word\n",
        "  return rline\n",
        "rev_line(input(\"enter a line\"))\n"
      ],
      "metadata": {
        "colab": {
          "base_uri": "https://localhost:8080/",
          "height": 53
        },
        "id": "fioZoG3hW3U5",
        "outputId": "e1096c9f-b71c-4f16-d960-fd033fa6d447"
      },
      "execution_count": null,
      "outputs": [
        {
          "name": "stdout",
          "output_type": "stream",
          "text": [
            "enter a linejava is best\n"
          ]
        },
        {
          "output_type": "execute_result",
          "data": {
            "text/plain": [
              "' best is java'"
            ],
            "application/vnd.google.colaboratory.intrinsic+json": {
              "type": "string"
            }
          },
          "metadata": {},
          "execution_count": 42
        }
      ]
    },
    {
      "cell_type": "code",
      "source": [
        "def count_Primes_nums(n):\n",
        "    ctr = 0\n",
        "    for num in range(n):\n",
        "        if num <= 1:\n",
        "            continue\n",
        "        for i in range(2, num):\n",
        "            if (num % i) == 0:\n",
        "                break\n",
        "        else:\n",
        "            ctr += 1\n",
        "\n",
        "    return ctr\n",
        "\n",
        "print(count_Primes_nums(5))"
      ],
      "metadata": {
        "id": "n_aS25F-ZjjO",
        "colab": {
          "base_uri": "https://localhost:8080/"
        },
        "outputId": "c0d36f40-5a75-47d2-e903-c42c272bd240"
      },
      "execution_count": 11,
      "outputs": [
        {
          "output_type": "stream",
          "name": "stdout",
          "text": [
            "2\n"
          ]
        }
      ]
    },
    {
      "cell_type": "code",
      "source": [
        "def check_letters_in_string(str1, str2):\n",
        "    return all(char in str1 for char in str2)\n",
        "test_cases = [\n",
        "    (\"python\", \"ypth\"),\n",
        "    (\"python\", \"ypths\"),\n",
        "    (\"python\", \"ypthon\"),\n",
        "    (\"123456\", \"01234\"),\n",
        "    (\"123456\", \"1234\")\n",
        "]\n",
        "\n",
        "for str1, str2 in test_cases:\n",
        "    print(check_letters_in_string(str1, str2))\n"
      ],
      "metadata": {
        "colab": {
          "base_uri": "https://localhost:8080/"
        },
        "id": "jR-6proDaVN2",
        "outputId": "fb2f21db-9174-42db-fc23-fb79b96a524f"
      },
      "execution_count": 18,
      "outputs": [
        {
          "output_type": "stream",
          "name": "stdout",
          "text": [
            "True\n",
            "False\n",
            "True\n",
            "False\n",
            "True\n"
          ]
        }
      ]
    },
    {
      "cell_type": "code",
      "source": [
        "def longest_common_prefix(s):\n",
        "  if not s:\n",
        "    return \"\"\n",
        "\n",
        "  pre=s[0]\n",
        "  for substring in s[1:]:\n",
        "    while not substring.startswith(pre):\n",
        "      pre=pre[:-1]\n",
        "      if not pre:\n",
        "        return False\n",
        "  return pre\n",
        "s=[\"flower\",\"flyover\"]\n",
        "longest_common_prefix(s)"
      ],
      "metadata": {
        "colab": {
          "base_uri": "https://localhost:8080/",
          "height": 36
        },
        "id": "R4eFuDXibVC7",
        "outputId": "c80f367e-1506-4d8b-94f6-f2a170036b46"
      },
      "execution_count": 24,
      "outputs": [
        {
          "output_type": "execute_result",
          "data": {
            "text/plain": [
              "'fl'"
            ],
            "application/vnd.google.colaboratory.intrinsic+json": {
              "type": "string"
            }
          },
          "metadata": {},
          "execution_count": 24
        }
      ]
    },
    {
      "cell_type": "code",
      "source": [
        "def wordBreak(s, wordDict):\n",
        "\n",
        "    word_set = set(wordDict)\n",
        "\n",
        "    dp = [False] * (len(s) + 1)\n",
        "    dp[0] = True\n",
        "\n",
        "    for i in range(1, len(s) + 1):\n",
        "        for j in range(i):\n",
        "            if dp[j] and s[j:i] in word_set:\n",
        "                dp[i] = True\n",
        "                break\n",
        "\n",
        "    return dp[len(s)]\n",
        "\n",
        "# Test cases\n",
        "s1 = \"applepenapple\"\n",
        "wordDict = [\"apple\", \"pen\"]\n",
        "wordBreak(s1,wordDict)"
      ],
      "metadata": {
        "colab": {
          "base_uri": "https://localhost:8080/"
        },
        "id": "S0d-0xyqc3H4",
        "outputId": "449fb336-f677-4d91-c01b-86f9d476aab5"
      },
      "execution_count": 29,
      "outputs": [
        {
          "output_type": "execute_result",
          "data": {
            "text/plain": [
              "True"
            ]
          },
          "metadata": {},
          "execution_count": 29
        }
      ]
    },
    {
      "cell_type": "code",
      "source": [],
      "metadata": {
        "id": "N_rBP-9rjkDn"
      },
      "execution_count": null,
      "outputs": []
    }
  ]
}